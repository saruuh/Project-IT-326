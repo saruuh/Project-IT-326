{
  "cells": [
    {
      "cell_type": "markdown",
      "metadata": {},
      "source": [
        "#Phase1:"
      ]
    },
    {
      "cell_type": "markdown",
      "metadata": {},
      "source": [
        "##Goal of Collecting Dataset:\n",
        "\n",
        "The primary goal of analyzing this dataset is to:\n",
        "\n",
        "Performance Analysis: Assess team and player performances by examining various metrics such as goals, assists, and other key statistics.\n",
        "\n",
        "Outcome Prediction: Develop models to predict match outcomes or player performances based on historical data.\n",
        "\n",
        "Trend Identification: Discover trends and patterns in match results, player statistics, and team strategies.\n",
        "\n",
        "We will achieve this by clustering data and classifying it using machine learning techniques acquired during the course."
      ]
    },
    {
      "cell_type": "markdown",
      "metadata": {},
      "source": [
        "##Source of Dataset:\n",
        "Kaggle Platform Dataset link: https://www.kaggle.com/datasets/evangower/fifa-world-cup"
      ]
    },
    {
      "cell_type": "markdown",
      "metadata": {},
      "source": [
        "##General Information about the Dataset:\n",
        "\n",
        "Number of Attributes:15\n",
        "\n",
        "Number of Objects:900 (Match)\n",
        "\n",
        "Class Name/Labels: outcome\n"
      ]
    },
    {
      "cell_type": "code",
      "execution_count": 3,
      "metadata": {
        "trusted": true
      },
      "outputs": [
        {
          "name": "stdout",
          "output_type": "stream",
          "text": [
            "<class 'pandas.core.frame.DataFrame'>\n",
            "RangeIndex: 900 entries, 0 to 899\n",
            "Data columns (total 15 columns):\n",
            " #   Column          Non-Null Count  Dtype \n",
            "---  ------          --------------  ----- \n",
            " 0   year            900 non-null    int64 \n",
            " 1   country         900 non-null    object\n",
            " 2   city            900 non-null    object\n",
            " 3   stage           900 non-null    object\n",
            " 4   home_team       900 non-null    object\n",
            " 5   away_team       900 non-null    object\n",
            " 6   home_score      900 non-null    int64 \n",
            " 7   away_score      900 non-null    int64 \n",
            " 8   outcome         900 non-null    object\n",
            " 9   win_conditions  62 non-null     object\n",
            " 10  winning_team    731 non-null    object\n",
            " 11  losing_team     731 non-null    object\n",
            " 12  date            900 non-null    object\n",
            " 13  month           900 non-null    object\n",
            " 14  dayofweek       900 non-null    object\n",
            "dtypes: int64(3), object(12)\n",
            "memory usage: 105.6+ KB\n",
            "None\n"
          ]
        }
      ],
      "source": [
        "import pandas as pd\n",
        "\n",
        "df = pd.read_csv('Dataset/wcmatches.csv')\n",
        "\n",
        "print(df.info())"
      ]
    },
    {
      "cell_type": "code",
      "execution_count": 4,
      "metadata": {},
      "outputs": [
        {
          "ename": "SyntaxError",
          "evalue": "invalid syntax (290499642.py, line 1)",
          "output_type": "error",
          "traceback": [
            "\u001b[0;36m  Cell \u001b[0;32mIn[4], line 1\u001b[0;36m\u001b[0m\n\u001b[0;31m    import pandas as pddf = pd.read_csv('Dataset/wcmatches.csv')print(df.info())\u001b[0m\n\u001b[0m                          ^\u001b[0m\n\u001b[0;31mSyntaxError\u001b[0m\u001b[0;31m:\u001b[0m invalid syntax\n"
          ]
        }
      ],
      "source": [
        "\n",
        "import pandas as pddf = pd.read_csv('Dataset/wcmatches.csv')print(df.info()\n",
        "\n",
        "import pandas as pddf = pd.read_csv('Dataset/wcmatches.csv')num_row=len(df)print(num_row)\n",
        "\n",
        "import pandas as pd\n",
        "\n",
        "df = pd.read_csv('Dataset/wcmatches.csv')\n",
        "num_row=len(df)\n",
        "\n",
        "print(num_row)"
      ]
    },
    {
      "cell_type": "markdown",
      "metadata": {},
      "source": [
        "------------------------------------------------------"
      ]
    },
    {
      "cell_type": "markdown",
      "metadata": {},
      "source": [
        "#Phase2:"
      ]
    },
    {
      "cell_type": "markdown",
      "metadata": {},
      "source": [
        "| Attributes Name | Data type | Description | Possible Values |\n",
        "|----------|----------|----------|----------|\n",
        "|Year |\tInteger| The year of the match |\tAny year (e.g., 1930, 1934, etc.)|\n",
        "|Country |\tString |The country hosting the World Cup | E.g., Uruguay, Italy, France, etc.|\n",
        "|City\t| String |\tThe city where the match took place\t | E.g., Montevideo, Bologna, Paris, etc.|\n",
        "|Stage\t| String|\tThe stage of the tournament |\tGroup 1, Group 2, Semifinals, Final, etc.|\n",
        "|Home Team |\tString | The team playing at home |\tE.g., Brazil, Germany, Argentina, etc.|\n",
        "|Away Team |\tString |\tThe team playing away |\tE.g., Mexico, Sweden, Italy, etc.|\n",
        "|Home Score |\tInteger\t| The score of the home team |\tAny non-negative integer|\n",
        "|Away Score\t| Integer |\tThe score of the away team |\tAny non-negative integer|\n",
        "|Outcome |\tString | The result of the match |\tH (Home win), A (Away win), D (Draw)|\n",
        "|Win Conditions |\tString |\tConditions under which the winning team was determined\tSpecific phrases |(e.g., \"won in AET\", \"NA\")|\n",
        "|Winning Team |\tString | The team that won the match |\tE.g., Brazil, Italy, etc.|\n",
        "|Losing Team|\tString | The team that lost the match |\tE.g., Mexico, Argentina, etc.|\n",
        "|Date |Date |\tThe date of the match |\tFormat: YYYY-MM-DD |\n",
        "|Month |String\t|The month in which the match took place| E.g., Jan, Feb, Mar, Apr, ...|\n",
        "|DayOfWeek |\tString |\tThe day of the week when the match occurred | E.g., Sunday, Monday, Tuesday, etc.|\n"
      ]
    },
    {
      "cell_type": "markdown",
      "metadata": {},
      "source": [
        "##Encoding:"
      ]
    },
    {
      "cell_type": "code",
      "execution_count": 31,
      "metadata": {},
      "outputs": [
        {
          "name": "stdout",
          "output_type": "stream",
          "text": [
            "    outcome  outcome_encoded\n",
            "0         H                2\n",
            "1         A                0\n",
            "2         A                0\n",
            "3         A                0\n",
            "4         H                2\n",
            "..      ...              ...\n",
            "895       A                0\n",
            "896       H                2\n",
            "897       H                2\n",
            "898       H                2\n",
            "899       H                2\n",
            "\n",
            "[900 rows x 2 columns]\n",
            "             stage  stage_encoded\n",
            "0          Group 1              3\n",
            "1          Group 4              6\n",
            "2          Group 2              4\n",
            "3          Group 3              5\n",
            "4          Group 1              3\n",
            "..             ...            ...\n",
            "895  Quarterfinals             18\n",
            "896     Semifinals             20\n",
            "897     Semifinals             20\n",
            "898    Third place             21\n",
            "899          Final              1\n",
            "\n",
            "[900 rows x 2 columns]\n",
            "    month  month_encoded\n",
            "0     Jul              0\n",
            "1     Jul              0\n",
            "2     Jul              0\n",
            "3     Jul              0\n",
            "4     Jul              0\n",
            "..    ...            ...\n",
            "895   Jul              0\n",
            "896   Jul              0\n",
            "897   Jul              0\n",
            "898   Jul              0\n",
            "899   Jul              0\n",
            "\n",
            "[900 rows x 2 columns]\n"
          ]
        }
      ],
      "source": [
        "\n",
        "from sklearn.preprocessing import LabelEncoder\n",
        "le = LabelEncoder()\n",
        "df['outcome_encoded'] = le.fit_transform(df['outcome'])\n",
        "df['stage_encoded'] = le.fit_transform(df['stage'])\n",
        "df['month_encoded'] = le.fit_transform(df['month'])\n",
        "print(df[['outcome', 'outcome_encoded']])\n",
        "print(df[['stage', 'stage_encoded']])\n",
        "print(df[['month', 'month_encoded']])\n"
      ]
    },
    {
      "cell_type": "markdown",
      "metadata": {},
      "source": [
        "##Sample of 30 national team:"
      ]
    },
    {
      "cell_type": "code",
      "execution_count": 32,
      "metadata": {},
      "outputs": [
        {
          "name": "stdout",
          "output_type": "stream",
          "text": [
            "     year        country          city          stage     home_team  \\\n",
            "882  2018         Russia       Saransk        Group G        Panama   \n",
            "136  1962          Chile      Rancagua        Group 4     Argentina   \n",
            "285  1978      Argentina       Mendoza        Group 4   Netherlands   \n",
            "457  1990          Italy      Florence  Quarterfinals    Yugoslavia   \n",
            "259  1974        Germany     Stuttgart        Group B        Sweden   \n",
            "279  1978      Argentina       Córdoba        Group 2  West Germany   \n",
            "305  1978      Argentina  Buenos Aires        Group A         Italy   \n",
            "573  1998         France   Saint-Denis  Quarterfinals        France   \n",
            "498  1994  United States        Dallas        Group D     Argentina   \n",
            "593  2002    South Korea         Busan        Group D   South Korea   \n",
            "749  2010   South Africa    Rustenburg        Group E       Denmark   \n",
            "142  1962          Chile      Santiago        Group 2  West Germany   \n",
            "753  2010   South Africa     Nelspruit        Group G   North Korea   \n",
            "414  1990          Italy          Bari        Group B  Soviet Union   \n",
            "436  1990          Italy        Naples        Group B     Argentina   \n",
            "676  2006        Germany       Hanover        Group A    Costa Rica   \n",
            "755  2010   South Africa  Bloemfontein        Group H   Switzerland   \n",
            "693  2006        Germany        Munich    Round of 16       Germany   \n",
            "13   1930        Uruguay    Montevideo        Group 3       Uruguay   \n",
            "709  2010   South Africa     Cape Town        Group A       Uruguay   \n",
            "618  2002    South Korea       Daejeon        Group B  South Africa   \n",
            "454  1990          Italy       Bologna    Round of 16       England   \n",
            "41   1938         France     Marseille    Round of 16         Italy   \n",
            "718  2010   South Africa  Johannesburg        Group E   Netherlands   \n",
            "895  2018         Russia         Sochi  Quarterfinals        Russia   \n",
            "291  1978      Argentina       Córdoba        Group 4          Iran   \n",
            "331  1982          Spain      Zaragoza        Group 5      Honduras   \n",
            "366  1986         Mexico   Guadalajara        Group D       Algeria   \n",
            "556  1998         France         Paris        Group E       Belgium   \n",
            "700  2006        Germany        Berlin  Quarterfinals       Germany   \n",
            "\n",
            "            away_team  home_score  away_score outcome  \\\n",
            "882           Tunisia           1           2       A   \n",
            "136          Bulgaria           1           0       H   \n",
            "285              Peru           0           0       D   \n",
            "457         Argentina           0           0       A   \n",
            "259            Poland           0           1       A   \n",
            "279            Mexico           6           0       H   \n",
            "305       Netherlands           1           2       A   \n",
            "573             Italy           0           0       H   \n",
            "498          Bulgaria           0           2       A   \n",
            "593            Poland           2           0       H   \n",
            "749             Japan           1           3       A   \n",
            "142             Italy           0           0       D   \n",
            "753       Ivory Coast           0           3       A   \n",
            "414           Romania           0           2       A   \n",
            "436           Romania           1           1       D   \n",
            "676            Poland           1           2       A   \n",
            "755          Honduras           0           0       D   \n",
            "693            Sweden           2           0       H   \n",
            "13            Romania           4           0       H   \n",
            "709            France           0           0       D   \n",
            "618             Spain           2           3       A   \n",
            "454           Belgium           1           0       H   \n",
            "41             Norway           2           1       H   \n",
            "718           Denmark           2           0       H   \n",
            "895           Croatia           2           2       A   \n",
            "291              Peru           1           4       A   \n",
            "331  Northern Ireland           1           1       D   \n",
            "366  Northern Ireland           1           1       D   \n",
            "556       South Korea           1           1       D   \n",
            "700         Argentina           1           1       H   \n",
            "\n",
            "                         win_conditions  winning_team   losing_team  \\\n",
            "882                                 NaN       Tunisia        Panama   \n",
            "136                                 NaN     Argentina      Bulgaria   \n",
            "285                                 NaN           NaN           NaN   \n",
            "457  Argentina won in penalties (3 - 2)     Argentina    Yugoslavia   \n",
            "259                                 NaN        Poland        Sweden   \n",
            "279                                 NaN  West Germany        Mexico   \n",
            "305                                 NaN   Netherlands         Italy   \n",
            "573     France won in penalties (4 - 3)        France         Italy   \n",
            "498                                 NaN      Bulgaria     Argentina   \n",
            "593                                 NaN   South Korea        Poland   \n",
            "749                                 NaN         Japan       Denmark   \n",
            "142                                 NaN           NaN           NaN   \n",
            "753                                 NaN   Ivory Coast   North Korea   \n",
            "414                                 NaN       Romania  Soviet Union   \n",
            "436                                 NaN           NaN           NaN   \n",
            "676                                 NaN        Poland    Costa Rica   \n",
            "755                                 NaN           NaN           NaN   \n",
            "693                                 NaN       Germany        Sweden   \n",
            "13                                  NaN       Uruguay       Romania   \n",
            "709                                 NaN           NaN           NaN   \n",
            "618                                 NaN         Spain  South Africa   \n",
            "454                  England won in AET       England       Belgium   \n",
            "41                     Italy won in AET         Italy        Norway   \n",
            "718                                 NaN   Netherlands       Denmark   \n",
            "895    Croatia won in penalties (4 - 3)       Croatia        Russia   \n",
            "291                                 NaN          Peru          Iran   \n",
            "331                                 NaN           NaN           NaN   \n",
            "366                                 NaN           NaN           NaN   \n",
            "556                                 NaN           NaN           NaN   \n",
            "700    Germany won in penalties (4 - 2)       Germany     Argentina   \n",
            "\n",
            "           date month  dayofweek  outcome_encoded  stage_encoded  \\\n",
            "882  2018-06-28   Jun   Thursday                0             16   \n",
            "136  1962-05-30   May  Wednesday                2              6   \n",
            "285  1978-06-07   Jun  Wednesday                1              6   \n",
            "457  1990-06-30   Jun   Saturday                0             18   \n",
            "259  1974-06-26   Jun  Wednesday                0             10   \n",
            "279  1978-06-06   Jun    Tuesday                2              4   \n",
            "305  1978-06-21   Jun  Wednesday                0              9   \n",
            "573  1998-07-03   Jul     Friday                2             18   \n",
            "498  1994-06-30   Jun   Thursday                0             12   \n",
            "593  2002-06-04   Jun    Tuesday                2             12   \n",
            "749  2010-06-24   Jun   Thursday                0             14   \n",
            "142  1962-05-31   May   Thursday                1              4   \n",
            "753  2010-06-25   Jun     Friday                0             16   \n",
            "414  1990-06-09   Jun   Saturday                0             10   \n",
            "436  1990-06-18   Jun     Monday                1             10   \n",
            "676  2006-06-20   Jun    Tuesday                0              9   \n",
            "755  2010-06-25   Jun     Friday                1             17   \n",
            "693  2006-06-24   Jun   Saturday                2             19   \n",
            "13   1930-07-21   Jul     Monday                2              5   \n",
            "709  2010-06-11   Jun     Friday                1              9   \n",
            "618  2002-06-12   Jun  Wednesday                0             10   \n",
            "454  1990-06-26   Jun    Tuesday                2             19   \n",
            "41   1938-06-05   Jun     Sunday                2             19   \n",
            "718  2010-06-14   Jun     Monday                2             14   \n",
            "895  2018-07-07   Jul   Saturday                0             18   \n",
            "291  1978-06-11   Jun     Sunday                0              6   \n",
            "331  1982-06-21   Jun     Monday                1              7   \n",
            "366  1986-06-03   Jun    Tuesday                1             12   \n",
            "556  1998-06-25   Jun   Thursday                1             14   \n",
            "700  2006-06-30   Jun     Friday                2             18   \n",
            "\n",
            "     month_encoded  \n",
            "882              1  \n",
            "136              2  \n",
            "285              1  \n",
            "457              1  \n",
            "259              1  \n",
            "279              1  \n",
            "305              1  \n",
            "573              0  \n",
            "498              1  \n",
            "593              1  \n",
            "749              1  \n",
            "142              2  \n",
            "753              1  \n",
            "414              1  \n",
            "436              1  \n",
            "676              1  \n",
            "755              1  \n",
            "693              1  \n",
            "13               0  \n",
            "709              1  \n",
            "618              1  \n",
            "454              1  \n",
            "41               1  \n",
            "718              1  \n",
            "895              0  \n",
            "291              1  \n",
            "331              1  \n",
            "366              1  \n",
            "556              1  \n",
            "700              1  \n"
          ]
        }
      ],
      "source": [
        "\n",
        "sample=df.sample(n=30);\n",
        "print(sample);"
      ]
    },
    {
      "cell_type": "markdown",
      "metadata": {},
      "source": [
        "##Show the missing value:"
      ]
    },
    {
      "cell_type": "code",
      "execution_count": 33,
      "metadata": {},
      "outputs": [
        {
          "name": "stdout",
          "output_type": "stream",
          "text": [
            "Missing values \n",
            "year                 0\n",
            "country              0\n",
            "city                 0\n",
            "stage                0\n",
            "home_team            0\n",
            "away_team            0\n",
            "home_score           0\n",
            "away_score           0\n",
            "outcome              0\n",
            "win_conditions     838\n",
            "winning_team       169\n",
            "losing_team        169\n",
            "date                 0\n",
            "month                0\n",
            "dayofweek            0\n",
            "outcome_encoded      0\n",
            "stage_encoded        0\n",
            "month_encoded        0\n",
            "dtype: int64\n",
            "The total of Missing value is :\n",
            "1176\n"
          ]
        }
      ],
      "source": [
        "missing_values = df.isnull().sum()\n",
        "print(\"Missing values \")\n",
        "print(missing_values )\n",
        "missing_counts = missing_values.sum();\n",
        "print(\"The total of Missing value is :\")\n",
        "print(missing_counts)"
      ]
    },
    {
      "cell_type": "markdown",
      "metadata": {},
      "source": [
        "##Show the Min., 1st Qu., Median, Mean ,3rd Qu.,Max. for each numeric column:"
      ]
    },
    {
      "cell_type": "code",
      "execution_count": 34,
      "metadata": {},
      "outputs": [
        {
          "name": "stdout",
          "output_type": "stream",
          "text": [
            "              year  home_score  away_score  outcome_encoded  stage_encoded  \\\n",
            "count   900.000000  900.000000  900.000000       900.000000     900.000000   \n",
            "mean   1986.915556    1.568889    1.262222         1.141111      11.628889   \n",
            "std      23.150270    1.489574    1.313960         0.890613       5.759555   \n",
            "min    1930.000000    0.000000    0.000000         0.000000       0.000000   \n",
            "25%    1970.000000    0.000000    0.000000         0.000000       6.000000   \n",
            "50%    1990.000000    1.000000    1.000000         1.000000      11.000000   \n",
            "75%    2006.000000    2.000000    2.000000         2.000000      17.000000   \n",
            "max    2018.000000   10.000000    8.000000         2.000000      21.000000   \n",
            "\n",
            "       month_encoded  \n",
            "count     900.000000  \n",
            "mean        0.858889  \n",
            "std         0.415333  \n",
            "min         0.000000  \n",
            "25%         1.000000  \n",
            "50%         1.000000  \n",
            "75%         1.000000  \n",
            "max         2.000000  \n"
          ]
        }
      ],
      "source": [
        "summary_stats=df.describe();\n",
        "print(summary_stats);"
      ]
    },
    {
      "cell_type": "markdown",
      "metadata": {},
      "source": [
        "##Show the Variance:"
      ]
    },
    {
      "cell_type": "code",
      "execution_count": 36,
      "metadata": {},
      "outputs": [
        {
          "name": "stdout",
          "output_type": "stream",
          "text": [
            "year               535.935019\n",
            "home_score           2.218831\n",
            "away_score           1.726491\n",
            "outcome_encoded      0.793191\n",
            "stage_encoded       33.172468\n",
            "month_encoded        0.172502\n",
            "dtype: float64\n"
          ]
        }
      ],
      "source": [
        "variance= df.var(numeric_only=True);\n",
        "print(variance);"
      ]
    },
    {
      "cell_type": "markdown",
      "metadata": {},
      "source": [
        "##Data Preprocessing:"
      ]
    },
    {
      "cell_type": "markdown",
      "metadata": {},
      "source": [
        "###Data Cleaning:"
      ]
    },
    {
      "cell_type": "markdown",
      "metadata": {},
      "source": [
        "###1-Remove duplicates:"
      ]
    },
    {
      "cell_type": "code",
      "execution_count": 1,
      "metadata": {},
      "outputs": [
        {
          "name": "stdout",
          "output_type": "stream",
          "text": [
            "Number of duplicate rows: 0\n",
            "DataFrame after dropping all duplicate rows:\n",
            "     year  country              city          stage  home_team      away_team  \\\n",
            "0    1930  Uruguay        Montevideo        Group 1     France         Mexico   \n",
            "1    1930  Uruguay        Montevideo        Group 4    Belgium  United States   \n",
            "2    1930  Uruguay        Montevideo        Group 2     Brazil     Yugoslavia   \n",
            "3    1930  Uruguay        Montevideo        Group 3       Peru        Romania   \n",
            "4    1930  Uruguay        Montevideo        Group 1  Argentina         France   \n",
            "..    ...      ...               ...            ...        ...            ...   \n",
            "895  2018   Russia             Sochi  Quarterfinals     Russia        Croatia   \n",
            "896  2018   Russia  Saint Petersburg     Semifinals     France        Belgium   \n",
            "897  2018   Russia            Moscow     Semifinals    Croatia        England   \n",
            "898  2018   Russia  Saint Petersburg    Third place    Belgium        England   \n",
            "899  2018   Russia            Moscow          Final     France        Croatia   \n",
            "\n",
            "     home_score  away_score outcome                    win_conditions  \\\n",
            "0             4           1       H                               NaN   \n",
            "1             0           3       A                               NaN   \n",
            "2             1           2       A                               NaN   \n",
            "3             1           3       A                               NaN   \n",
            "4             1           0       H                               NaN   \n",
            "..          ...         ...     ...                               ...   \n",
            "895           2           2       A  Croatia won in penalties (4 - 3)   \n",
            "896           1           0       H                               NaN   \n",
            "897           2           1       H                Croatia won in AET   \n",
            "898           2           0       H                               NaN   \n",
            "899           4           2       H                               NaN   \n",
            "\n",
            "      winning_team losing_team        date month  dayofweek  \n",
            "0           France      Mexico  1930-07-13   Jul     Sunday  \n",
            "1    United States     Belgium  1930-07-13   Jul     Sunday  \n",
            "2       Yugoslavia      Brazil  1930-07-14   Jul     Monday  \n",
            "3          Romania        Peru  1930-07-14   Jul     Monday  \n",
            "4        Argentina      France  1930-07-15   Jul    Tuesday  \n",
            "..             ...         ...         ...   ...        ...  \n",
            "895        Croatia      Russia  2018-07-07   Jul   Saturday  \n",
            "896         France     Belgium  2018-07-10   Jul    Tuesday  \n",
            "897        Croatia     England  2018-07-11   Jul  Wednesday  \n",
            "898        Belgium     England  2018-07-14   Jul   Saturday  \n",
            "899         France     Croatia  2018-07-15   Jul     Sunday  \n",
            "\n",
            "[900 rows x 15 columns]\n"
          ]
        }
      ],
      "source": [
        "import pandas as pd\n",
        "data = pd.read_csv('Dataset/wcmatches.csv')\n",
        "num_duplicates = data.duplicated().sum()\n",
        "data_cleaned = data.drop_duplicates()\n",
        "print(\"Number of duplicate rows:\", num_duplicates)\n",
        "print(\"DataFrame after dropping all duplicate rows:\")\n",
        "print(data_cleaned)\n",
        "data_cleaned.to_csv('Cleaned_dataset.csv', index=False)"
      ]
    },
    {
      "cell_type": "markdown",
      "metadata": {},
      "source": [
        "##Handling Missing Values:"
      ]
    },
    {
      "cell_type": "code",
      "execution_count": 2,
      "metadata": {},
      "outputs": [
        {
          "name": "stdout",
          "output_type": "stream",
          "text": [
            "     year        country             city          stage      home_team  \\\n",
            "784  2014         Brazil            Natal        Group G          Ghana   \n",
            "430  1990          Italy            Turin        Group C         Brazil   \n",
            "187  1966        England           London        Group 1         Mexico   \n",
            "383  1986         Mexico           Toluca        Group B           Iraq   \n",
            "837  2018         Russia     Ekaterinburg        Group A          Egypt   \n",
            "687  2006        Germany         Dortmund        Group F          Japan   \n",
            "326  1982          Spain           Bilbao        Group 4        England   \n",
            "625  2002          Japan            Osaka        Group H          Japan   \n",
            "37   1938         France         Toulouse    Round of 16           Cuba   \n",
            "856  2018         Russia           Samara        Group C        Denmark   \n",
            "542  1998         France        Marseille        Group E    Netherlands   \n",
            "728  2010   South Africa        Cape Town        Group C        England   \n",
            "518  1998         France         Toulouse        Group B       Cameroon   \n",
            "644  2006        Germany           Munich        Group A        Germany   \n",
            "585  2002          Japan          Saitama        Group F        England   \n",
            "596  2002    South Korea            Suwon        Group D  United States   \n",
            "194  1966        England       Sunderland  Quarterfinals        Hungary   \n",
            "545  1998         France             Lyon        Group F  United States   \n",
            "71   1950         Brazil   Rio de Janeiro    Final Round         Brazil   \n",
            "18   1934          Italy          Bologna    Round of 16      Argentina   \n",
            "437  1990          Italy             Bari        Group B       Cameroon   \n",
            "486  1994  United States  East Rutherford        Group F   Saudi Arabia   \n",
            "462  1990          Italy             Bari    Third place          Italy   \n",
            "192  1966        England           London  Quarterfinals        England   \n",
            "169  1966        England        Liverpool        Group 3         Brazil   \n",
            "378  1986         Mexico      Mexico City        Group B         Mexico   \n",
            "796  2014         Brazil           Recife        Group D          Italy   \n",
            "14   1930        Uruguay       Montevideo        Group 1      Argentina   \n",
            "9    1930        Uruguay       Montevideo        Group 1      Argentina   \n",
            "498  1994  United States           Dallas        Group D      Argentina   \n",
            "\n",
            "          away_team  home_score  away_score outcome win_conditions  \\\n",
            "784   United States           1           2       A            NaN   \n",
            "430      Costa Rica           1           0       H            NaN   \n",
            "187         Uruguay           0           0       D            NaN   \n",
            "383         Belgium           1           2       A            NaN   \n",
            "837         Uruguay           0           1       A            NaN   \n",
            "687          Brazil           1           4       A            NaN   \n",
            "326  Czechoslovakia           2           0       H            NaN   \n",
            "625         Tunisia           2           0       H            NaN   \n",
            "37          Romania           3           3       D            NaN   \n",
            "856       Australia           1           1       D            NaN   \n",
            "542     South Korea           5           0       H            NaN   \n",
            "728         Algeria           0           0       D            NaN   \n",
            "518         Austria           1           1       D            NaN   \n",
            "644      Costa Rica           4           2       H            NaN   \n",
            "585          Sweden           1           1       D            NaN   \n",
            "596        Portugal           3           2       H            NaN   \n",
            "194    Soviet Union           1           2       A            NaN   \n",
            "545            Iran           1           2       A            NaN   \n",
            "71            Spain           6           1       H            NaN   \n",
            "18           Sweden           2           3       A            NaN   \n",
            "437    Soviet Union           0           4       A            NaN   \n",
            "486         Morocco           2           1       H            NaN   \n",
            "462         England           2           1       H            NaN   \n",
            "192       Argentina           1           0       H            NaN   \n",
            "169        Bulgaria           2           0       H            NaN   \n",
            "378        Paraguay           1           1       D            NaN   \n",
            "796      Costa Rica           0           1       A            NaN   \n",
            "14            Chile           3           1       H            NaN   \n",
            "9            Mexico           6           3       H            NaN   \n",
            "498        Bulgaria           0           2       A            NaN   \n",
            "\n",
            "      winning_team     losing_team        date month  dayofweek  \n",
            "784  United States           Ghana  2014-06-16   Jun     Monday  \n",
            "430         Brazil      Costa Rica  1990-06-16   Jun   Saturday  \n",
            "187            NaN             NaN  1966-07-19   Jul    Tuesday  \n",
            "383        Belgium            Iraq  1986-06-08   Jun     Sunday  \n",
            "837        Uruguay           Egypt  2018-06-15   Jun     Friday  \n",
            "687         Brazil           Japan  2006-06-22   Jun   Thursday  \n",
            "326        England  Czechoslovakia  1982-06-20   Jun     Sunday  \n",
            "625          Japan         Tunisia  2002-06-14   Jun     Friday  \n",
            "37             NaN             NaN  1938-06-05   Jun     Sunday  \n",
            "856            NaN             NaN  2018-06-21   Jun   Thursday  \n",
            "542    Netherlands     South Korea  1998-06-20   Jun   Saturday  \n",
            "728            NaN             NaN  2010-06-18   Jun     Friday  \n",
            "518            NaN             NaN  1998-06-11   Jun   Thursday  \n",
            "644        Germany      Costa Rica  2006-06-09   Jun     Friday  \n",
            "585            NaN             NaN  2002-06-02   Jun     Sunday  \n",
            "596  United States        Portugal  2002-06-05   Jun  Wednesday  \n",
            "194   Soviet Union         Hungary  1966-07-23   Jul   Saturday  \n",
            "545           Iran   United States  1998-06-21   Jun     Sunday  \n",
            "71          Brazil           Spain  1950-07-13   Jul   Thursday  \n",
            "18          Sweden       Argentina  1934-05-27   May     Sunday  \n",
            "437   Soviet Union        Cameroon  1990-06-18   Jun     Monday  \n",
            "486   Saudi Arabia         Morocco  1994-06-25   Jun   Saturday  \n",
            "462          Italy         England  1990-07-07   Jul   Saturday  \n",
            "192        England       Argentina  1966-07-23   Jul   Saturday  \n",
            "169         Brazil        Bulgaria  1966-07-12   Jul    Tuesday  \n",
            "378            NaN             NaN  1986-06-07   Jun   Saturday  \n",
            "796     Costa Rica           Italy  2014-06-20   Jun     Friday  \n",
            "14       Argentina           Chile  1930-07-22   Jul    Tuesday  \n",
            "9        Argentina          Mexico  1930-07-19   Jul   Saturday  \n",
            "498       Bulgaria       Argentina  1994-06-30   Jun   Thursday  \n",
            "Missing values in each column:\n",
            "year                0\n",
            "country             0\n",
            "city                0\n",
            "stage               0\n",
            "home_team           0\n",
            "away_team           0\n",
            "home_score          0\n",
            "away_score          0\n",
            "outcome             0\n",
            "win_conditions    838\n",
            "winning_team      169\n",
            "losing_team       169\n",
            "date                0\n",
            "month               0\n",
            "dayofweek           0\n",
            "dtype: int64\n",
            "\n",
            "Rows with missing values:\n",
            "     year  country              city          stage  home_team      away_team  \\\n",
            "0    1930  Uruguay        Montevideo        Group 1     France         Mexico   \n",
            "1    1930  Uruguay        Montevideo        Group 4    Belgium  United States   \n",
            "2    1930  Uruguay        Montevideo        Group 2     Brazil     Yugoslavia   \n",
            "3    1930  Uruguay        Montevideo        Group 3       Peru        Romania   \n",
            "4    1930  Uruguay        Montevideo        Group 1  Argentina         France   \n",
            "..    ...      ...               ...            ...        ...            ...   \n",
            "893  2018   Russia             Kazan  Quarterfinals     Brazil        Belgium   \n",
            "894  2018   Russia            Samara  Quarterfinals     Sweden        England   \n",
            "896  2018   Russia  Saint Petersburg     Semifinals     France        Belgium   \n",
            "898  2018   Russia  Saint Petersburg    Third place    Belgium        England   \n",
            "899  2018   Russia            Moscow          Final     France        Croatia   \n",
            "\n",
            "     home_score  away_score outcome win_conditions   winning_team losing_team  \\\n",
            "0             4           1       H            NaN         France      Mexico   \n",
            "1             0           3       A            NaN  United States     Belgium   \n",
            "2             1           2       A            NaN     Yugoslavia      Brazil   \n",
            "3             1           3       A            NaN        Romania        Peru   \n",
            "4             1           0       H            NaN      Argentina      France   \n",
            "..          ...         ...     ...            ...            ...         ...   \n",
            "893           1           2       A            NaN        Belgium      Brazil   \n",
            "894           0           2       A            NaN        England      Sweden   \n",
            "896           1           0       H            NaN         France     Belgium   \n",
            "898           2           0       H            NaN        Belgium     England   \n",
            "899           4           2       H            NaN         France     Croatia   \n",
            "\n",
            "           date month dayofweek  \n",
            "0    1930-07-13   Jul    Sunday  \n",
            "1    1930-07-13   Jul    Sunday  \n",
            "2    1930-07-14   Jul    Monday  \n",
            "3    1930-07-14   Jul    Monday  \n",
            "4    1930-07-15   Jul   Tuesday  \n",
            "..          ...   ...       ...  \n",
            "893  2018-07-06   Jul    Friday  \n",
            "894  2018-07-07   Jul  Saturday  \n",
            "896  2018-07-10   Jul   Tuesday  \n",
            "898  2018-07-14   Jul  Saturday  \n",
            "899  2018-07-15   Jul    Sunday  \n",
            "\n",
            "[838 rows x 15 columns]\n"
          ]
        }
      ],
      "source": [
        "import pandas as pd\n",
        "data = pd.read_csv('Dataset/wcmatches.csv');\n",
        "sample=data.sample(n=30);\n",
        "print(sample);\n",
        "missing_values = data.isna()\n",
        "missing_counts = missing_values.sum();\n",
        "rows_with_missing = data[data.isna().any(axis=1)];\n",
        "\n",
        "print(\"Missing values in each column:\");\n",
        "print(missing_counts);\n",
        "print(\"\\nRows with missing values:\");\n",
        "print(rows_with_missing);"
      ]
    }
  ],
  "metadata": {
    "kernelspec": {
      "display_name": "Python 3 (ipykernel)",
      "language": "python",
      "name": "python3"
    },
    "language_info": {
      "codemirror_mode": {
        "name": "ipython",
        "version": 3
      },
      "file_extension": ".py",
      "mimetype": "text/x-python",
      "name": "python",
      "nbconvert_exporter": "python",
      "pygments_lexer": "ipython3",
      "version": "3.12.1"
    }
  },
  "nbformat": 4,
  "nbformat_minor": 4
}
